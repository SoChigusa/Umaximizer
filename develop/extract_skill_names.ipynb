{
 "cells": [
  {
   "cell_type": "markdown",
   "metadata": {},
   "source": [
    "# Extract all skill names from database"
   ]
  },
  {
   "cell_type": "code",
   "execution_count": 3,
   "metadata": {},
   "outputs": [],
   "source": [
    "import collections\n",
    "import re\n",
    "import json\n",
    "from bs4 import BeautifulSoup\n",
    "\n",
    "def html_to_json(src_html, src_json):\n",
    "\n",
    "  # open html file\n",
    "  with open(src_html, 'r') as html_file:\n",
    "      html = html_file.read()\n",
    "      soup = BeautifulSoup(html, 'html.parser')\n",
    "\n",
    "  # parse\n",
    "  skill_names = [''] # for OSR error\n",
    "  tbody = soup.find('tbody', recursive=False)\n",
    "  for skill_name_bs in tbody.select('td.skill-name'):\n",
    "    skill_name = skill_name_bs.text\n",
    "    skill_name = skill_name.replace(' ', '')\n",
    "    skill_name = skill_name.replace('\\n', '')\n",
    "    skill_name = skill_name.replace('○', '')\n",
    "    if not '◎' in skill_name and not '×' in skill_name:\n",
    "      skill_names.append(skill_name)\n",
    "  \n",
    "  # also add hint level texts\n",
    "  hint_correct_list = ['','ヒントLv110%0FF','ヒントLv220%0FF',\n",
    "  'ヒントLv330%0FF','ヒントLv435%0FF','ヒントLv最大40%0FF']\n",
    "\n",
    "  # save as json\n",
    "  tmp_dict = {'skills': skill_names, 'hints': hint_correct_list}\n",
    "  with open(src_json, 'w') as f:\n",
    "    json.dump(tmp_dict, f, indent=2)"
   ]
  },
  {
   "cell_type": "code",
   "execution_count": 4,
   "metadata": {},
   "outputs": [],
   "source": [
    "html_to_json('database.html', '../json/skill_names.json')"
   ]
  },
  {
   "cell_type": "code",
   "execution_count": null,
   "metadata": {},
   "outputs": [],
   "source": []
  }
 ],
 "metadata": {
  "kernelspec": {
   "display_name": "Python 3.8.8 ('base')",
   "language": "python",
   "name": "python3"
  },
  "language_info": {
   "codemirror_mode": {
    "name": "ipython",
    "version": 3
   },
   "file_extension": ".py",
   "mimetype": "text/x-python",
   "name": "python",
   "nbconvert_exporter": "python",
   "pygments_lexer": "ipython3",
   "version": "3.8.8"
  },
  "orig_nbformat": 4,
  "vscode": {
   "interpreter": {
    "hash": "fb04d8bf3436e4f219a9efb54facd327328583db56aa33ab8b84a4312d7914a5"
   }
  }
 },
 "nbformat": 4,
 "nbformat_minor": 2
}
