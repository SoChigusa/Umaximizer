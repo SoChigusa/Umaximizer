{
 "cells": [
  {
   "cell_type": "markdown",
   "metadata": {},
   "source": [
    "# Auto complete the skill point maximizer forms"
   ]
  },
  {
   "cell_type": "markdown",
   "metadata": {},
   "source": [
    "## Input skill hints from images"
   ]
  },
  {
   "cell_type": "markdown",
   "metadata": {},
   "source": [
    "## Analyze images and extract skill hint information"
   ]
  },
  {
   "cell_type": "markdown",
   "metadata": {},
   "source": [
    "## Auto complete skill hints"
   ]
  },
  {
   "cell_type": "code",
   "execution_count": 70,
   "metadata": {},
   "outputs": [
    {
     "name": "stderr",
     "output_type": "stream",
     "text": [
      "<ipython-input-70-8c7b64c92cfd>:13: DeprecationWarning: executable_path has been deprecated, please pass in a Service object\n",
      "  driver = webdriver.Chrome(executable_path=DRIVER_PATH, options=options)\n"
     ]
    }
   ],
   "source": [
    "from selenium import webdriver\n",
    "from selenium.webdriver.common.by import By\n",
    "from selenium.webdriver.chrome.options import Options\n",
    "\n",
    "options = Options()\n",
    "options.add_argument('--disable-gpu')\n",
    "options.add_argument('--disable-extensions')\n",
    "options.add_argument('--proxy-server=\"direct://\"')\n",
    "options.add_argument('--proxy-bypass-list=*')\n",
    "options.add_argument('--start-maximized')\n",
    "\n",
    "DRIVER_PATH = '/usr/local/bin/chromedriver'\n",
    "driver = webdriver.Chrome(executable_path=DRIVER_PATH, options=options)\n",
    "\n",
    "load_url = 'https://gamewith.jp/uma-musume/article/show/293663'\n",
    "driver.get(load_url)"
   ]
  },
  {
   "cell_type": "markdown",
   "metadata": {},
   "source": [
    "### 現在のスキルポイントを入力"
   ]
  },
  {
   "cell_type": "code",
   "execution_count": 71,
   "metadata": {},
   "outputs": [],
   "source": [
    "skill_point = 2000\n",
    "skill_point_textarea = driver.find_element(By.XPATH, \"//input[@id='HavePoint'][@type='number']\")\n",
    "skill_point_textarea.send_keys(str(skill_point))"
   ]
  },
  {
   "cell_type": "markdown",
   "metadata": {},
   "source": [
    "### 切れ者を取得している"
   ]
  },
  {
   "cell_type": "code",
   "execution_count": 72,
   "metadata": {},
   "outputs": [],
   "source": [
    "shrewd = True\n",
    "if shrewd:\n",
    "  shrewd_checkbox = driver.find_element(By.XPATH, \"//label[@for='HasKiremono']\")\n",
    "  shrewd_checkbox.click()"
   ]
  },
  {
   "cell_type": "markdown",
   "metadata": {},
   "source": [
    "### 適性を入力する"
   ]
  },
  {
   "cell_type": "code",
   "execution_count": 73,
   "metadata": {},
   "outputs": [],
   "source": [
    "appropriate = [1,4,3,2,1,1,1,2,3,4] # 1 [SA] 2 [BC] 3 [DEF] 4[G]\n",
    "for count, app in enumerate(appropriate): # grass, dart, sprint, mile, middle, long, front, stalk, stay, off\n",
    "  id = \"//label[@for='AppropriateSelect\" + str(count+1) + \"_\" + str(app) + \"']\"\n",
    "  appropriate_radio = driver.find_element(By.XPATH, id)\n",
    "  appropriate_radio.click()"
   ]
  },
  {
   "cell_type": "markdown",
   "metadata": {},
   "source": [
    "### 取得しているヒントとレベル"
   ]
  },
  {
   "cell_type": "code",
   "execution_count": 74,
   "metadata": {},
   "outputs": [],
   "source": [
    "hints = [['VIP顔パス', 2],['アガッてきた！', 4]]\n",
    "for hint in hints:\n",
    "  hint_search_textarea = driver.find_element(By.XPATH, \"//input[@id='SkillSearchText'][@type='text']\")\n",
    "  hint_search_textarea.clear()\n",
    "  hint_search_textarea.send_keys(hint[0])\n",
    "  skill_label = driver.find_element(By.XPATH, '//*[@id=\"article-body\"]/div[3]/div[2]/ol[2]/li/label')\n",
    "  skill_label.click() # スキルヒントLv.0取得\n",
    "  hint_up_button = driver.find_element(By.XPATH, '//*[@class=\"_hint-button is-up\"]')\n",
    "  for i in range(hint[1]): # ヒントLv.設定\n",
    "    hint_up_button.click()"
   ]
  },
  {
   "cell_type": "markdown",
   "metadata": {},
   "source": [
    "### 評価点が最大になる組み合わせを計算"
   ]
  },
  {
   "cell_type": "code",
   "execution_count": 76,
   "metadata": {},
   "outputs": [],
   "source": [
    "maximizer_button = driver.find_element(By.XPATH, '//*[@class=\"w-start-calculate js-start-calculate\"]')\n",
    "maximizer_button.click()"
   ]
  },
  {
   "cell_type": "code",
   "execution_count": null,
   "metadata": {},
   "outputs": [],
   "source": [
    "# driver.quit()"
   ]
  },
  {
   "cell_type": "code",
   "execution_count": null,
   "metadata": {},
   "outputs": [],
   "source": []
  }
 ],
 "metadata": {
  "kernelspec": {
   "display_name": "Python 3.8.8 ('base')",
   "language": "python",
   "name": "python3"
  },
  "language_info": {
   "codemirror_mode": {
    "name": "ipython",
    "version": 3
   },
   "file_extension": ".py",
   "mimetype": "text/x-python",
   "name": "python",
   "nbconvert_exporter": "python",
   "pygments_lexer": "ipython3",
   "version": "3.8.8"
  },
  "vscode": {
   "interpreter": {
    "hash": "fb04d8bf3436e4f219a9efb54facd327328583db56aa33ab8b84a4312d7914a5"
   }
  }
 },
 "nbformat": 4,
 "nbformat_minor": 4
}
